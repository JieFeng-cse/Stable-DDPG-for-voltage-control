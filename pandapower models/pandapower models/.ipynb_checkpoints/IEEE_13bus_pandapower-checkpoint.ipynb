{
 "cells": [
  {
   "cell_type": "code",
   "execution_count": 15,
   "metadata": {},
   "outputs": [],
   "source": [
    "import matplotlib.pyplot as plt\n",
    "from mpl_toolkits.mplot3d import Axes3D\n",
    "import numpy as np\n",
    "from numpy import linalg as LA\n",
    "import gym\n",
    "import os\n",
    "import random\n",
    "import sys\n",
    "from gym import spaces\n",
    "from gym.utils import seeding\n",
    "import copy\n",
    "\n",
    "from scipy.io import loadmat\n",
    "import pandapower as pp\n",
    "import pandapower.networks as pn\n",
    "import pandas as pd \n",
    "import math\n",
    "import torch\n",
    "import torch.nn as nn\n",
    "import torch.nn.functional as F\n",
    "import torch.optim as optim\n",
    "\n",
    "import cvxpy as cp\n",
    "\n",
    "os.environ[\"CUDA_DEVICE_ORDER\"] = \"PCI_BUS_ID\"  \n",
    "os.environ[\"CUDA_VISIBLE_DEVICES\"] = \"-1\"\n",
    "\n",
    "use_cuda = torch.cuda.is_available()\n",
    "device   = torch.device(\"cuda\" if use_cuda else \"cpu\")"
   ]
  },
  {
   "cell_type": "code",
   "execution_count": 16,
   "metadata": {},
   "outputs": [
    {
     "data": {
      "text/plain": [
       "11"
      ]
     },
     "execution_count": 16,
     "metadata": {},
     "output_type": "execute_result"
    }
   ],
   "source": [
    "pp_net = pp.converter.from_mpc('case_13.mat', casename_mpc_file='case_mpc')\n",
    "    \n",
    "for i in range(1, 13):\n",
    "    pp.create_sgen(pp_net, i, p_mw = 0, q_mvar=0)\n",
    "\n",
    "# In the original IEEE 13 bus system, there is no load in bus 3, 7, 8. \n",
    "# Add the load to corresponding node for dimension alignment in RL training\n",
    "pp.create_load(pp_net, 3, p_mw = 0, q_mvar=0)\n",
    "pp.create_load(pp_net, 7, p_mw = 0, q_mvar=0)\n",
    "pp.create_load(pp_net, 8, p_mw = 0, q_mvar=0)"
   ]
  },
  {
   "cell_type": "code",
   "execution_count": 17,
   "metadata": {},
   "outputs": [],
   "source": [
    "# assuming each bus has a voltage controller except the root node (0)\n",
    "injection_bus = np.array([1, 2, 3, 4, 5, 6, 7, 8, 9, 10, 11, 12])"
   ]
  },
  {
   "cell_type": "code",
   "execution_count": 18,
   "metadata": {},
   "outputs": [
    {
     "data": {
      "text/html": [
       "<div>\n",
       "<style scoped>\n",
       "    .dataframe tbody tr th:only-of-type {\n",
       "        vertical-align: middle;\n",
       "    }\n",
       "\n",
       "    .dataframe tbody tr th {\n",
       "        vertical-align: top;\n",
       "    }\n",
       "\n",
       "    .dataframe thead th {\n",
       "        text-align: right;\n",
       "    }\n",
       "</style>\n",
       "<table border=\"1\" class=\"dataframe\">\n",
       "  <thead>\n",
       "    <tr style=\"text-align: right;\">\n",
       "      <th></th>\n",
       "      <th>vm_pu</th>\n",
       "      <th>va_degree</th>\n",
       "      <th>p_mw</th>\n",
       "      <th>q_mvar</th>\n",
       "    </tr>\n",
       "  </thead>\n",
       "  <tbody>\n",
       "    <tr>\n",
       "      <th>0</th>\n",
       "      <td>1.000000</td>\n",
       "      <td>0.000000</td>\n",
       "      <td>-2.587188</td>\n",
       "      <td>-1.669742</td>\n",
       "    </tr>\n",
       "    <tr>\n",
       "      <th>1</th>\n",
       "      <td>0.944253</td>\n",
       "      <td>-2.730853</td>\n",
       "      <td>0.135000</td>\n",
       "      <td>0.078500</td>\n",
       "    </tr>\n",
       "    <tr>\n",
       "      <th>2</th>\n",
       "      <td>0.939130</td>\n",
       "      <td>-2.800610</td>\n",
       "      <td>0.170000</td>\n",
       "      <td>0.125000</td>\n",
       "    </tr>\n",
       "    <tr>\n",
       "      <th>3</th>\n",
       "      <td>0.942088</td>\n",
       "      <td>-2.782060</td>\n",
       "      <td>0.000000</td>\n",
       "      <td>0.000000</td>\n",
       "    </tr>\n",
       "    <tr>\n",
       "      <th>4</th>\n",
       "      <td>0.937437</td>\n",
       "      <td>-2.829300</td>\n",
       "      <td>0.230000</td>\n",
       "      <td>0.132000</td>\n",
       "    </tr>\n",
       "    <tr>\n",
       "      <th>5</th>\n",
       "      <td>0.908391</td>\n",
       "      <td>-4.850139</td>\n",
       "      <td>0.670000</td>\n",
       "      <td>0.381000</td>\n",
       "    </tr>\n",
       "    <tr>\n",
       "      <th>6</th>\n",
       "      <td>0.939924</td>\n",
       "      <td>-2.833503</td>\n",
       "      <td>0.230000</td>\n",
       "      <td>0.168000</td>\n",
       "    </tr>\n",
       "    <tr>\n",
       "      <th>7</th>\n",
       "      <td>0.906523</td>\n",
       "      <td>-4.915773</td>\n",
       "      <td>0.000000</td>\n",
       "      <td>0.000000</td>\n",
       "    </tr>\n",
       "    <tr>\n",
       "      <th>8</th>\n",
       "      <td>0.908391</td>\n",
       "      <td>-4.850139</td>\n",
       "      <td>0.000000</td>\n",
       "      <td>0.000000</td>\n",
       "    </tr>\n",
       "    <tr>\n",
       "      <th>9</th>\n",
       "      <td>0.903781</td>\n",
       "      <td>-4.860653</td>\n",
       "      <td>0.170000</td>\n",
       "      <td>0.151000</td>\n",
       "    </tr>\n",
       "    <tr>\n",
       "      <th>10</th>\n",
       "      <td>0.905313</td>\n",
       "      <td>-4.943940</td>\n",
       "      <td>0.170000</td>\n",
       "      <td>0.080000</td>\n",
       "    </tr>\n",
       "    <tr>\n",
       "      <th>11</th>\n",
       "      <td>0.904819</td>\n",
       "      <td>-4.948288</td>\n",
       "      <td>0.128000</td>\n",
       "      <td>0.008600</td>\n",
       "    </tr>\n",
       "    <tr>\n",
       "      <th>12</th>\n",
       "      <td>0.900402</td>\n",
       "      <td>-4.888449</td>\n",
       "      <td>0.569000</td>\n",
       "      <td>0.228000</td>\n",
       "    </tr>\n",
       "  </tbody>\n",
       "</table>\n",
       "</div>"
      ],
      "text/plain": [
       "       vm_pu  va_degree      p_mw    q_mvar\n",
       "0   1.000000   0.000000 -2.587188 -1.669742\n",
       "1   0.944253  -2.730853  0.135000  0.078500\n",
       "2   0.939130  -2.800610  0.170000  0.125000\n",
       "3   0.942088  -2.782060  0.000000  0.000000\n",
       "4   0.937437  -2.829300  0.230000  0.132000\n",
       "5   0.908391  -4.850139  0.670000  0.381000\n",
       "6   0.939924  -2.833503  0.230000  0.168000\n",
       "7   0.906523  -4.915773  0.000000  0.000000\n",
       "8   0.908391  -4.850139  0.000000  0.000000\n",
       "9   0.903781  -4.860653  0.170000  0.151000\n",
       "10  0.905313  -4.943940  0.170000  0.080000\n",
       "11  0.904819  -4.948288  0.128000  0.008600\n",
       "12  0.900402  -4.888449  0.569000  0.228000"
      ]
     },
     "execution_count": 18,
     "metadata": {},
     "output_type": "execute_result"
    }
   ],
   "source": [
    "# Calculate the bus voltage under the default load condition (original p_mw/q_mvar are provided below)\n",
    "pp.runpp(pp_net, algorithm='bfsw')\n",
    "pp_net.res_bus"
   ]
  },
  {
   "cell_type": "code",
   "execution_count": 19,
   "metadata": {},
   "outputs": [
    {
     "data": {
      "text/plain": [
       "Text(0, 0.5, 'Voltage')"
      ]
     },
     "execution_count": 19,
     "metadata": {},
     "output_type": "execute_result"
    },
    {
     "data": {
      "image/png": "[encoded data removed]",
      "text/plain": [
       "<Figure size 432x288 with 1 Axes>"
      ]
     },
     "metadata": {
      "needs_background": "light"
     },
     "output_type": "display_data"
    }
   ],
   "source": [
    "plt.plot(pp_net.res_bus.iloc[injection_bus].vm_pu.to_numpy())\n",
    "plt.ylabel('Voltage')"
   ]
  },
  {
   "cell_type": "code",
   "execution_count": null,
   "metadata": {},
   "outputs": [],
   "source": []
  }
 ],
 "metadata": {
  "kernelspec": {
   "display_name": "Python 3",
   "language": "python",
   "name": "python3"
  },
  "language_info": {
   "codemirror_mode": {
    "name": "ipython",
    "version": 3
   },
   "file_extension": ".py",
   "mimetype": "text/x-python",
   "name": "python",
   "nbconvert_exporter": "python",
   "pygments_lexer": "ipython3",
   "version": "3.8.5"
  }
 },
 "nbformat": 4,
 "nbformat_minor": 4
}
