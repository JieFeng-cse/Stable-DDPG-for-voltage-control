{
 "cells": [
  {
   "cell_type": "code",
   "execution_count": 1,
   "metadata": {},
   "outputs": [],
   "source": [
    "import matplotlib.pyplot as plt\n",
    "from mpl_toolkits.mplot3d import Axes3D\n",
    "import numpy as np\n",
    "from numpy import linalg as LA\n",
    "import gym\n",
    "import os\n",
    "import random\n",
    "import sys\n",
    "from gym import spaces\n",
    "from gym.utils import seeding\n",
    "import copy\n",
    "\n",
    "from scipy.io import loadmat\n",
    "import pandapower as pp\n",
    "import pandapower.networks as pn\n",
    "import pandas as pd \n",
    "import math\n",
    "import torch\n",
    "import torch.nn as nn\n",
    "import torch.nn.functional as F\n",
    "import torch.optim as optim\n",
    "\n",
    "import cvxpy as cp\n",
    "\n",
    "os.environ[\"CUDA_DEVICE_ORDER\"] = \"PCI_BUS_ID\"  \n",
    "os.environ[\"CUDA_VISIBLE_DEVICES\"] = \"-1\"\n",
    "\n",
    "use_cuda = torch.cuda.is_available()\n",
    "device   = torch.device(\"cuda\" if use_cuda else \"cpu\")"
   ]
  },
  {
   "cell_type": "code",
   "execution_count": 10,
   "metadata": {},
   "outputs": [],
   "source": [
    "# % Feeder based on IEEE123 with the following simplifications:\n",
    "# 1. Regulator considered separately in mpc table regs with fixed voltage gains\n",
    "# 2. Root node regulator ignored two regulators shifted to downstream end of the line for simplicity\n",
    "# [thus bus 151, 300, 250, 450] are remove\n",
    "# 3. Breakers replaced by short-circuits or open circuits (intermediate buses removed) \n",
    "# [thus bus 135, 149, 152, 160, 197] are removed\n",
    "# 4. Transformer ignored as lower-voltage side bus is with no load\n",
    "# 5. Substation transformer omitted (LV-side perspective)\n",
    "# 6. Spot load are distributed equally on three phases\n",
    "# % - (1;1) element is used for 3-phase lines; non-zero element is used for 1-phase lines\n",
    "# % - Capacitors considered separately in mpc table caps\n",
    "# 7. Two buses relabelled (node 114 in '123bus.png' is relabeled as 61, node 150 is relabeled as 114. \n",
    "# 8. All node indices are '-1' compared to the indices in '123bus.png', since python starts index by 0 but matpower from 1\n",
    "# After the simplification, only 114 nodes are left\n",
    "\n",
    "pp_net = pp.converter.from_mpc('case_123.mat', casename_mpc_file='case_mpc')\n",
    "    \n",
    "for i in range(0, 114):\n",
    "    pp.create_sgen(pp_net, i, p_mw = 0, q_mvar=0)"
   ]
  },
  {
   "cell_type": "code",
   "execution_count": 13,
   "metadata": {},
   "outputs": [],
   "source": [
    "# assuming each bus has a voltage controller (except the substation node 113); \n",
    "# for MARL experiment, we could place controller randomly at selected buses\n",
    "injection_bus = np.arange(0, 113)"
   ]
  },
  {
   "cell_type": "code",
   "execution_count": 14,
   "metadata": {},
   "outputs": [
    {
     "data": {
      "text/html": [
       "<div>\n",
       "<style scoped>\n",
       "    .dataframe tbody tr th:only-of-type {\n",
       "        vertical-align: middle;\n",
       "    }\n",
       "\n",
       "    .dataframe tbody tr th {\n",
       "        vertical-align: top;\n",
       "    }\n",
       "\n",
       "    .dataframe thead th {\n",
       "        text-align: right;\n",
       "    }\n",
       "</style>\n",
       "<table border=\"1\" class=\"dataframe\">\n",
       "  <thead>\n",
       "    <tr style=\"text-align: right;\">\n",
       "      <th></th>\n",
       "      <th>vm_pu</th>\n",
       "      <th>va_degree</th>\n",
       "      <th>p_mw</th>\n",
       "      <th>q_mvar</th>\n",
       "    </tr>\n",
       "  </thead>\n",
       "  <tbody>\n",
       "    <tr>\n",
       "      <th>0</th>\n",
       "      <td>1.000000</td>\n",
       "      <td>0.000000</td>\n",
       "      <td>-120.961242</td>\n",
       "      <td>-17.262905</td>\n",
       "    </tr>\n",
       "    <tr>\n",
       "      <th>1</th>\n",
       "      <td>0.999850</td>\n",
       "      <td>-0.008377</td>\n",
       "      <td>1.000000</td>\n",
       "      <td>0.020000</td>\n",
       "    </tr>\n",
       "    <tr>\n",
       "      <th>2</th>\n",
       "      <td>0.999136</td>\n",
       "      <td>-0.047662</td>\n",
       "      <td>1.000000</td>\n",
       "      <td>0.000000</td>\n",
       "    </tr>\n",
       "    <tr>\n",
       "      <th>3</th>\n",
       "      <td>0.998961</td>\n",
       "      <td>-0.057060</td>\n",
       "      <td>1.000000</td>\n",
       "      <td>0.040000</td>\n",
       "    </tr>\n",
       "    <tr>\n",
       "      <th>4</th>\n",
       "      <td>0.998572</td>\n",
       "      <td>-0.078530</td>\n",
       "      <td>1.000000</td>\n",
       "      <td>0.020000</td>\n",
       "    </tr>\n",
       "    <tr>\n",
       "      <th>...</th>\n",
       "      <td>...</td>\n",
       "      <td>...</td>\n",
       "      <td>...</td>\n",
       "      <td>...</td>\n",
       "    </tr>\n",
       "    <tr>\n",
       "      <th>109</th>\n",
       "      <td>0.912399</td>\n",
       "      <td>-9.401482</td>\n",
       "      <td>1.000000</td>\n",
       "      <td>0.000000</td>\n",
       "    </tr>\n",
       "    <tr>\n",
       "      <th>110</th>\n",
       "      <td>0.911858</td>\n",
       "      <td>-9.434560</td>\n",
       "      <td>1.000000</td>\n",
       "      <td>0.020000</td>\n",
       "    </tr>\n",
       "    <tr>\n",
       "      <th>111</th>\n",
       "      <td>0.912043</td>\n",
       "      <td>-9.422906</td>\n",
       "      <td>1.000000</td>\n",
       "      <td>0.020000</td>\n",
       "    </tr>\n",
       "    <tr>\n",
       "      <th>112</th>\n",
       "      <td>0.911044</td>\n",
       "      <td>-9.482779</td>\n",
       "      <td>1.000000</td>\n",
       "      <td>0.040000</td>\n",
       "    </tr>\n",
       "    <tr>\n",
       "      <th>113</th>\n",
       "      <td>0.999652</td>\n",
       "      <td>-0.046889</td>\n",
       "      <td>3.000000</td>\n",
       "      <td>0.000000</td>\n",
       "    </tr>\n",
       "  </tbody>\n",
       "</table>\n",
       "<p>114 rows × 4 columns</p>\n",
       "</div>"
      ],
      "text/plain": [
       "        vm_pu  va_degree        p_mw     q_mvar\n",
       "0    1.000000   0.000000 -120.961242 -17.262905\n",
       "1    0.999850  -0.008377    1.000000   0.020000\n",
       "2    0.999136  -0.047662    1.000000   0.000000\n",
       "3    0.998961  -0.057060    1.000000   0.040000\n",
       "4    0.998572  -0.078530    1.000000   0.020000\n",
       "..        ...        ...         ...        ...\n",
       "109  0.912399  -9.401482    1.000000   0.000000\n",
       "110  0.911858  -9.434560    1.000000   0.020000\n",
       "111  0.912043  -9.422906    1.000000   0.020000\n",
       "112  0.911044  -9.482779    1.000000   0.040000\n",
       "113  0.999652  -0.046889    3.000000   0.000000\n",
       "\n",
       "[114 rows x 4 columns]"
      ]
     },
     "execution_count": 14,
     "metadata": {},
     "output_type": "execute_result"
    }
   ],
   "source": [
    "# Calculate the bus voltage under the default load condition (original p_mw/q_mvar are provided below)\n",
    "pp.runpp(pp_net, algorithm='bfsw')\n",
    "pp_net.res_bus"
   ]
  },
  {
   "cell_type": "code",
   "execution_count": 15,
   "metadata": {},
   "outputs": [
    {
     "data": {
      "text/plain": [
       "Text(0, 0.5, 'Voltage')"
      ]
     },
     "execution_count": 15,
     "metadata": {},
     "output_type": "execute_result"
    },
    {
     "data": {
      "image/png": "[encoded data removed]",
      "text/plain": [
       "<Figure size 432x288 with 1 Axes>"
      ]
     },
     "metadata": {
      "needs_background": "light"
     },
     "output_type": "display_data"
    }
   ],
   "source": [
    "plt.plot(pp_net.res_bus.iloc[injection_bus].vm_pu.to_numpy())\n",
    "plt.ylabel('Voltage')"
   ]
  },
  {
   "cell_type": "code",
   "execution_count": null,
   "metadata": {},
   "outputs": [],
   "source": []
  }
 ],
 "metadata": {
  "kernelspec": {
   "display_name": "Python 3",
   "language": "python",
   "name": "python3"
  },
  "language_info": {
   "codemirror_mode": {
    "name": "ipython",
    "version": 3
   },
   "file_extension": ".py",
   "mimetype": "text/x-python",
   "name": "python",
   "nbconvert_exporter": "python",
   "pygments_lexer": "ipython3",
   "version": "3.8.5"
  }
 },
 "nbformat": 4,
 "nbformat_minor": 4
}
